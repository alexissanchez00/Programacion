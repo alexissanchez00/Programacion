{
  "metadata": {
    "kernelspec": {
      "name": "xpython",
      "display_name": "Python 3.13 (XPython)",
      "language": "python"
    },
    "language_info": {
      "file_extension": ".py",
      "mimetype": "text/x-python",
      "name": "python",
      "version": "3.13.1"
    }
  },
  "nbformat_minor": 5,
  "nbformat": 4,
  "cells": [
    {
      "id": "c6a049d4-34b5-4d83-9dd2-baea451e38d9",
      "cell_type": "code",
      "source": "contador=0\nfor i in range (0,5):\n    contador+=1\n    print (\"Número \",contador)\n",
      "metadata": {
        "trusted": true
      },
      "outputs": [
        {
          "name": "stdout",
          "output_type": "stream",
          "text": "Número  1\nNúmero  2\nNúmero  3\nNúmero  4\nNúmero  5\n"
        }
      ],
      "execution_count": 2
    },
    {
      "id": "fe414744-f2ae-4411-b63a-5bea3a52de57",
      "cell_type": "code",
      "source": "suma = 0\n\nfor i in range(1, 11):\n    suma += i\n    print(\"La suma de los primeros 10 números es:\", suma)",
      "metadata": {
        "trusted": true
      },
      "outputs": [
        {
          "name": "stdout",
          "output_type": "stream",
          "text": "La suma de los primeros 10 números es: 1\nLa suma de los primeros 10 números es: 3\nLa suma de los primeros 10 números es: 6\nLa suma de los primeros 10 números es: 10\nLa suma de los primeros 10 números es: 15\nLa suma de los primeros 10 números es: 21\nLa suma de los primeros 10 números es: 28\nLa suma de los primeros 10 números es: 36\nLa suma de los primeros 10 números es: 45\nLa suma de los primeros 10 números es: 55\n"
        }
      ],
      "execution_count": 1
    },
    {
      "id": "b3c1bfdc-f5a1-4fcd-ba31-93ce26709dc9",
      "cell_type": "code",
      "source": "nombres = [\"Ed\", \"Jorge\", \"María\", \"Luisa\"]\n\nfor nombre in nombres:\n    print(\"Hola,\", nombre)",
      "metadata": {
        "trusted": true
      },
      "outputs": [
        {
          "name": "stdout",
          "output_type": "stream",
          "text": "Hola, Ed\nHola, Jorge\nHola, María\nHola, Luisa\n"
        }
      ],
      "execution_count": 3
    },
    {
      "id": "74a1c327-7d44-41db-9a71-6ce9a29f5ede",
      "cell_type": "code",
      "source": "Cumple = int(input(\"¿Cuál es tu edad?\"))\nfor i in range(1,Cumple +1):\n    print(\"Feliz cumpleaños número\",i)",
      "metadata": {
        "trusted": true
      },
      "outputs": [
        {
          "output_type": "stream",
          "name": "stdin",
          "text": "¿Cuál es tu edad? 8\n"
        },
        {
          "name": "stdout",
          "output_type": "stream",
          "text": "Feliz cumpleaños número 1\nFeliz cumpleaños número 2\nFeliz cumpleaños número 3\nFeliz cumpleaños número 4\nFeliz cumpleaños número 5\nFeliz cumpleaños número 6\nFeliz cumpleaños número 7\nFeliz cumpleaños número 8\n"
        }
      ],
      "execution_count": 29
    },
    {
      "id": "c5e6694f-f319-4b86-8aad-ca95a4afb64b",
      "cell_type": "code",
      "source": "#Hacer que con un input se agregue la edad\nprint(\"elige la opcion del 1 al 3\")\nopcion = int(input(\"Elige una opcion\"))\nif opcion == 1:\n    print(\"Has elegido guardar el archivo\")\nelif opcion == 2:\n    print(\"Has elegido abrir un archivo\")\nelif opcion == 3:\n    print(\"Has elegido salir del programa\")\nelse:\n    print(\"Opción no válida\")",
      "metadata": {
        "trusted": true
      },
      "outputs": [
        {
          "name": "stdout",
          "output_type": "stream",
          "text": "elige la opcion del 1 al 3\n"
        },
        {
          "output_type": "stream",
          "name": "stdin",
          "text": "Elige una opcion 5\n"
        },
        {
          "name": "stdout",
          "output_type": "stream",
          "text": "Opción no válida\n"
        }
      ],
      "execution_count": 35
    },
    {
      "id": "8a258949-082c-403f-a079-89dfd3698c93",
      "cell_type": "code",
      "source": "#Hacer que con un input se agregue la calificación\n\ncalificacion = 75\ninput = calificacion\nif calificacion >= 90:\n    print(\"Excelente\")\nelif calificacion >= 70:\n    print(\"Aprobado\")\nelse:\n    print(\"Reprobado\")",
      "metadata": {
        "trusted": true
      },
      "outputs": [
        {
          "name": "stdout",
          "output_type": "stream",
          "text": "Aprobado\n"
        }
      ],
      "execution_count": 47
    },
    {
      "id": "70993120-b8a9-4a49-9738-95649c716e48",
      "cell_type": "code",
      "source": "import random\n\nnumero_secreto = random.randint(1, 10)\nadivinanza = 0\n\nwhile adivinanza != numero_secreto:\n    adivinanza = int(input(\"Adivina el número (1-10): \"))\n    if adivinanza != numero_secreto:\n        print(\"Incorrecto. Intenta de nuevo.\")\n\nprint(\"¡Correcto! El número era\", numero_secreto)",
      "metadata": {
        "trusted": true
      },
      "outputs": [
        {
          "output_type": "stream",
          "name": "stdin",
          "text": "Adivina el número (1-10):  8\n"
        },
        {
          "name": "stdout",
          "output_type": "stream",
          "text": "Incorrecto. Intenta de nuevo.\n"
        },
        {
          "output_type": "stream",
          "name": "stdin",
          "text": "Adivina el número (1-10):  7\n"
        },
        {
          "name": "stdout",
          "output_type": "stream",
          "text": "¡Correcto! El número era 7\n"
        }
      ],
      "execution_count": 1
    },
    {
      "id": "c8274d44-eaa9-41b5-bcb4-539af62e83b5",
      "cell_type": "code",
      "source": "contador = 1\n\nwhile contador <= 5:\n    print(\"Número:\", contador)\n    contador += 1  # incrementa el contador",
      "metadata": {
        "trusted": true
      },
      "outputs": [
        {
          "name": "stdout",
          "output_type": "stream",
          "text": "Número: 1\nNúmero: 2\nNúmero: 3\nNúmero: 4\nNúmero: 5\n"
        }
      ],
      "execution_count": 15
    },
    {
      "id": "0dcfb177-069f-47f9-a33c-f0c702d16344",
      "cell_type": "code",
      "source": "",
      "metadata": {
        "trusted": true
      },
      "outputs": [],
      "execution_count": null
    }
  ]
}