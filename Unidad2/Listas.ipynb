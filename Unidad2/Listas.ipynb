{
  "metadata": {
    "kernelspec": {
      "name": "xpython",
      "display_name": "Python 3.13 (XPython)",
      "language": "python"
    },
    "language_info": {
      "name": ""
    }
  },
  "nbformat_minor": 5,
  "nbformat": 4,
  "cells": [
    {
      "id": "1f22e482-f2d0-4fba-a6a1-651ffefee5d0",
      "cell_type": "code",
      "source": "lista_compras = []\nprint(\"🛒 Lista de Compras 🛒\")\nproducto1 = input(\" Agrega el primer producto: \")\nlista_compras.append(producto1)\nproducto2 = input(\"Agrega el segundo producto: \")\nlista_compras.append(producto2)\nproducto3 = input(\"Agrega el tercer producto: \")\nlista_compras.append(producto3)\nprint(\"\\n📌 Tu lista de compras es:\")\nfor producto in lista_compras:\n    print(f\"- {producto}\")\nprint(\"\\n✅ ¡Lista creada con éxito!\")\n#https://www.webfx.com/tools/emoji-cheat-sheet/",
      "metadata": {
        "trusted": true
      },
      "outputs": [],
      "execution_count": null
    }
  ]
}