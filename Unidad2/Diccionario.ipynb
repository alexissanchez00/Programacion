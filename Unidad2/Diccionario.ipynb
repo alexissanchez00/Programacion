{
  "metadata": {
    "kernelspec": {
      "name": "xpython",
      "display_name": "Python 3.13 (XPython)",
      "language": "python"
    },
    "language_info": {
      "file_extension": ".py",
      "mimetype": "text/x-python",
      "name": "python",
      "version": "3.13.1"
    }
  },
  "nbformat_minor": 5,
  "nbformat": 4,
  "cells": [
    {
      "id": "d89c7b52-d544-474d-9cfd-764f99888734",
      "cell_type": "code",
      "source": "Edades = {\n    \"Brayan\": 25,\n    \"Luis\": 30,\n    \"José\": 22,\n}\nprint(\"Edad de Luis:\", Edades[\"Luis\"])    \nEdades[\"Brayan\"] = 28\nprint(\"\\nDespués de añadir a Brayan:\")\nprint(Edades)                               \n\nEdades[\"Luis\"] = 26\nprint(\"\\nDespués de actualizar la edad de Luis:\")\nprint(Edades)                              \n\ndel Edades[\"José\"] \nprint(\"\\nDespués de eliminar a José:\")\nprint(Edades)                               \n\nprint(\"\\nRecorriendo el diccionario:\")\nfor nombre, Edad in Edades.items():         \n     print(f\"{nombre} tiene {Edad} años\")",
      "metadata": {
        "trusted": true
      },
      "outputs": [
        {
          "name": "stdout",
          "output_type": "stream",
          "text": "Edad de Luis: 30\n\nDespués de añadir a Brayan:\n{'Brayan': 28, 'Luis': 30, 'José': 22}\n\nDespués de actualizar la edad de Luis:\n{'Brayan': 28, 'Luis': 26, 'José': 22}\n\nDespués de eliminar a José:\n{'Brayan': 28, 'Luis': 26}\n\nRecorriendo el diccionario:\nBrayan tiene 28 años\nLuis tiene 26 años\n"
        }
      ],
      "execution_count": 1
    },
    {
      "id": "43723736-86b9-4059-aa47-00bf7099bc99",
      "cell_type": "code",
      "source": "",
      "metadata": {
        "trusted": true
      },
      "outputs": [],
      "execution_count": null
    }
  ]
}